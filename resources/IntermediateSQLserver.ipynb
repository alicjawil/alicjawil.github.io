{
 "cells": [
  {
   "cell_type": "markdown",
   "metadata": {},
   "source": [
    "# T - SQL (MySQL) Tutorial with DataCamp\n",
    "Alicja Wilk. \n",
    "\n",
    "#### Tutorial Based on Data Camp Course - Intermediate SQL server - by Ginger Grant\n",
    "\n",
    "\n",
    "- Data: https://data.world/timothyrenner/ufo-sightings \n",
    "- Data: Shipments - in DataCamp, Orders - in DataCamp\n",
    "\n",
    "https://www.datacamp.com/courses/intermediate-t-sql"
   ]
  },
  {
   "cell_type": "markdown",
   "metadata": {},
   "source": [
    "## Table of Contents\n",
    "\n",
    "1. [Basic Aggregation Operatiors](#bao)\n",
    "2. [Missign Values](#mv)\n",
    "3. [Case statement](#cs)\n",
    "4. [Datepart](#dp)\n",
    "5. [Rounding and Truncating](#rat)\n",
    "6. [Creating and using variables](#cauv)\n",
    "7. [Creating a WHILE loop](#cawl)\n",
    "8. [Derived Tables](#dt)\n",
    "9. [Common Table Expressions](#cte)\n",
    "10. [Window Functions](#wf)\n",
    "11. [Common Window Functions](#cwf)"
   ]
  },
  {
   "cell_type": "markdown",
   "metadata": {},
   "source": [
    "### Basic Aggregation Operatiors <a class=\"anchor\" id=\"bao\"></a>"
   ]
  },
  {
   "cell_type": "raw",
   "metadata": {},
   "source": [
    "# Calculate the average, minimum and maximum\n",
    "\n",
    "SELECT \n",
    "AVG(DurationSeconds) AS Average,\n",
    "MIN(DurationSeconds) AS Minimum,       \n",
    "MAX(DurationSeconds) AS Maximum      \n",
    "FROM Incidents"
   ]
  },
  {
   "cell_type": "raw",
   "metadata": {},
   "source": [
    "#Calculate the aggregations by Shape\n",
    "\n",
    "SELECT Shape,\n",
    "       AVG(DurationSeconds) AS Average, \n",
    "       MIN(DurationSeconds) AS Minimum, \n",
    "       MAX(DurationSeconds) AS Maximum\n",
    "FROM Incidents\n",
    "GROUP BY Shape"
   ]
  },
  {
   "cell_type": "raw",
   "metadata": {},
   "source": [
    "#Calculate the aggregations and group by shape\n",
    "#Return records where minimum of DurationSeconds is greater than 1\n",
    "\n",
    "SELECT Shape,\n",
    "       AVG(DurationSeconds) AS Average, \n",
    "       MIN(DurationSeconds) AS Minimum, \n",
    "       MAX(DurationSeconds) AS Maximum\n",
    "FROM Incidents\n",
    "GROUP BY Shape\n",
    "HAVING MIN(DurationSeconds) > 1"
   ]
  },
  {
   "cell_type": "markdown",
   "metadata": {},
   "source": [
    "### Missing values <a class=\"anchor\" id=\"mv\"></a>\n",
    "\n",
    "\n",
    "Blank is not null value. The best way to look for blank value is to look for len() >0 \n",
    "\n",
    "We use INNULL function to replace missing values with something. "
   ]
  },
  {
   "cell_type": "markdown",
   "metadata": {},
   "source": [
    "COALESCE returns the first non missing value"
   ]
  },
  {
   "cell_type": "raw",
   "metadata": {},
   "source": [
    "#Exclude all the missing values from IncidentState \n",
    "\n",
    "SELECT IncidentDateTime, IncidentState\n",
    "From Incidents\n",
    "WHERE IncidentState IS NOT NULL"
   ]
  },
  {
   "cell_type": "raw",
   "metadata": {},
   "source": [
    "#Check the IncidentState column for missing values and replace them with the City column\n",
    "#Filter to only return missing values from IncidentState\n",
    "\n",
    "SELECT IncidentState, ISNULL(IncidentState, City) AS Location\n",
    "FROM Incidents\n",
    "WHERE IncidentState IS NULL"
   ]
  },
  {
   "cell_type": "raw",
   "metadata": {},
   "source": [
    "# Replace missing values\n",
    "\n",
    "SELECT Country, COALESCE(Country, IncidentState, City) AS Location\n",
    "FROM Incidents\n",
    "WHERE Country IS NULL"
   ]
  },
  {
   "cell_type": "markdown",
   "metadata": {},
   "source": [
    "### Case statement <a class=\"anchor\" id=\"cs\"></a>\n",
    "\n",
    "Used to evaluate conditions in a query\n"
   ]
  },
  {
   "cell_type": "raw",
   "metadata": {},
   "source": [
    "# adding a new column 'SourceCountry' based whether a country is usa or international or not\n",
    "\n",
    "SELECT Country, \n",
    "       CASE WHEN Country = 'us'  THEN 'USA'\n",
    "       ELSE 'International'\n",
    "       END AS SourceCountry\n",
    "FROM Incidents"
   ]
  },
  {
   "cell_type": "raw",
   "metadata": {},
   "source": [
    "# create new groups using the case statement\n",
    "#cutting the duration into different cases\n",
    "\n",
    "SELECT DurationSeconds, \n",
    "      CASE WHEN (DurationSeconds <= 120) THEN 1      \n",
    "       WHEN (DurationSeconds > 120 AND DurationSeconds <= 600) THEN 2        \n",
    "       WHEN (DurationSeconds > 601 AND DurationSeconds <= 1200) THEN 3            \n",
    "       WHEN (DurationSeconds > 1201 AND DurationSeconds <= 5000) THEN 4    \n",
    "       ELSE 5 \n",
    "       END AS SecondGroup   \n",
    "FROM Incidents"
   ]
  },
  {
   "cell_type": "raw",
   "metadata": {},
   "source": [
    "# Write a T-SQL query which will return the sum of the Quantity column as Total for each type of MixDesc.\n",
    "\n",
    "SELECT SUM(Quantity) as Total, MixDesc\n",
    "FROM shipments\n",
    "Group by MixDesc"
   ]
  },
  {
   "cell_type": "raw",
   "metadata": {},
   "source": [
    "#Create a query that returns the number of rows for each type of MixDesc.\n",
    "#Count the number of rows by MixDesc\n",
    "\n",
    "SELECT MixDesc, COUNT(*) \n",
    "FROM Shipments\n",
    "GROUP BY MixDesc"
   ]
  },
  {
   "cell_type": "markdown",
   "metadata": {},
   "source": [
    "### DATEPART <a class=\"anchor\" id=\"dp\"></a>\n",
    "\n",
    "Used when you want to specify which type od date we want to calculate. \n",
    "\n",
    "DD for day, MM for month, YY for year, HH for hour\n",
    "\n",
    "DATEADD(): Add or subtract datetime values Always returns a date\n",
    "\n",
    "DATEDIFF(): Obtain the difference between two datetime values Always returns a number\n"
   ]
  },
  {
   "cell_type": "raw",
   "metadata": {},
   "source": [
    "#Return the difference in OrderDate and ShipDate\n",
    "\n",
    "SELECT OrderDate, ShipDate, \n",
    "       DATEDIFF(DD, OrderDate, ShipDate) AS Duration\n",
    "FROM Shipments"
   ]
  },
  {
   "cell_type": "raw",
   "metadata": {},
   "source": [
    "#Return the DeliveryDate as 5 days after the ShipDate\n",
    "\n",
    "SELECT OrderDate, \n",
    "       DATEADD(DD, 5, ShipDate) AS DeliveryDate\n",
    "FROM Shipments"
   ]
  },
  {
   "cell_type": "markdown",
   "metadata": {},
   "source": [
    "### Rounding and truncating <a class=\"anchor\" id=\"rat\"></a>\n",
    " "
   ]
  },
  {
   "cell_type": "markdown",
   "metadata": {},
   "source": [
    "The round() function can be used as trucate function if we specify the third argument"
   ]
  },
  {
   "cell_type": "raw",
   "metadata": {},
   "source": [
    "#Round Cost to the nearest dollar\n",
    "\n",
    "SELECT Cost, \n",
    "       ROUND(Cost, 0) AS RoundedCost\n",
    "FROM Shipments"
   ]
  },
  {
   "cell_type": "raw",
   "metadata": {},
   "source": [
    "#Truncate cost to whole number\n",
    "\n",
    "SELECT Cost, \n",
    "       ROUND(Cost, 0,1) AS TruncateCost\n",
    "FROM Shipments"
   ]
  },
  {
   "cell_type": "raw",
   "metadata": {},
   "source": [
    "#Return the absolute value of DeliveryWeight\n",
    "\n",
    "SELECT DeliveryWeight,\n",
    "       ABS(DeliveryWeight) AS AbsoluteValue\n",
    "FROM Shipments"
   ]
  },
  {
   "cell_type": "raw",
   "metadata": {},
   "source": [
    "#Return the square and square root of WeightValue\n",
    "\n",
    "SELECT WeightValue, \n",
    "       SQUARE(WeightValue) AS WeightSquare, \n",
    "       SQRT(WeightValue) AS WeightSqrt\n",
    "FROM Shipments"
   ]
  },
  {
   "cell_type": "markdown",
   "metadata": {},
   "source": [
    "### Creating and using variables <a class=\"anchor\" id=\"cauv\"></a>\n",
    "\n",
    "In T-SQL, to create a variable you use the DECLARE statement. \n",
    "\n",
    "The variables must have an at sign (@) as their first character. \n",
    "\n",
    "Like most things in T-SQL, variables are not case sensitive. \n",
    "\n",
    "Can either use the keyword SET or a SELECT statement, then the variable name followed by an equal sign and a value."
   ]
  },
  {
   "cell_type": "raw",
   "metadata": {},
   "source": [
    "#Declare the variable (a SQL Command, the var name, the datatype)\n",
    "#Set the counter to 20\n",
    "#Select and increment the counter by one \n",
    "\n",
    "DECLARE @counter INT \n",
    "    SET @counter = 20\n",
    "    SELECT @counter = @counter +1\n",
    "\n",
    "SELECT @counter"
   ]
  },
  {
   "cell_type": "markdown",
   "metadata": {},
   "source": [
    "### Creating a WHILE loop <a class=\"anchor\" id=\"cawl\"></a>\n",
    "\n",
    "\n",
    "WHILE some_condition \n",
    "\n",
    "BEGIN \n",
    "    -- Perform some operation here\n",
    "    \n",
    "END"
   ]
  },
  {
   "cell_type": "raw",
   "metadata": {},
   "source": [
    "#Write a WHILE loop that increments counter by 1 until counter is less than 30.\n",
    "\n",
    "DECLARE @counter INT \n",
    "SET @counter = 20\n",
    "WHILE @counter < 30\n",
    "BEGIN\n",
    "\tSELECT @counter = @counter + 1\n",
    "END\n",
    "\n",
    "SELECT @counter"
   ]
  },
  {
   "cell_type": "markdown",
   "metadata": {},
   "source": [
    "### Derived tables <a class=\"anchor\" id=\"dt\"></a>\n",
    "\n",
    "Complex query into smaller steps.\n",
    "\n",
    "Specified in the FROM clause"
   ]
  },
  {
   "cell_type": "raw",
   "metadata": {},
   "source": [
    "#Return MaxGlucose from the derived table.\n",
    "#Join the derived table to the main query on Age.\n",
    "\n",
    "SELECT a.RecordId, a.Age, a.BloodGlucoseRandom,   \n",
    "       b.MaxGlucose\n",
    "FROM Kidney a\n",
    "JOIN(SELECT Age, MAX(BloodGlucoseRandom) AS MaxGlucose FROM Kidney GROUP BY Age) b\n",
    "ON a.Age = b.Age"
   ]
  },
  {
   "cell_type": "raw",
   "metadata": {},
   "source": [
    "#Create a derived table to return all patient records with the highest BloodPressure at their Age level.\n",
    "\n",
    "SELECT *\n",
    "FROM Kidney a\n",
    "JOIN (SELECT Age, MAX(BloodPressure) AS MaxBloodPressure FROM Kidney GROUP BY Age) b\n",
    "ON a.BloodPressure = b.MaxBloodPressure\n",
    "AND a.Age = b.Age"
   ]
  },
  {
   "cell_type": "markdown",
   "metadata": {},
   "source": [
    "### Common Table Expressions - CTE - <a class=\"anchor\" id=\"cte\"></a>\n",
    "\n",
    "Can be used multiple times in a query and are defined as a table. "
   ]
  },
  {
   "cell_type": "markdown",
   "metadata": {},
   "source": [
    "Creating CTEs (I)\n",
    "\n",
    "A Common table expression or CTE is used to create a table that can later be used with a query. \n",
    "\n",
    "To create a CTE: \n",
    "- WITH keyword followed by the CTE name and the name of the columns the CTE contains. \n",
    "- The CTE will also include the definition of the table enclosed within the AS().\n",
    "\n"
   ]
  },
  {
   "cell_type": "raw",
   "metadata": {},
   "source": [
    "#Specify the keyowrds to create the CTE\n",
    "#Join the CTE on blood glucose equal to max blood glucose\n",
    "\n",
    "WITH BloodGlucoseRandom (MaxGlucose) \n",
    "AS (SELECT MAX(BloodGlucoseRandom) AS MaxGlucose FROM Kidney)\n",
    "\n",
    "SELECT a.Age, b.MaxGlucose\n",
    "FROM Kidney a\n",
    "JOIN BloodGlucoseRandom b\n",
    "ON a.BloodGlucoseRandom = b.MaxGlucose"
   ]
  },
  {
   "cell_type": "raw",
   "metadata": {},
   "source": [
    "#Create a CTE BloodPressure that returns one column (MaxBloodPressure) which contains the maximum BloodPressure in the table.\n",
    "#Join this CTE (using an alias b) to the main table (Kidney) to return information about patients with the maximum BloodPressure.\n",
    "\n",
    "\n",
    "WITH BloodPressure (MaxBloodPressure) \n",
    "AS (SELECT MAX(BloodPressure) AS MaxBloodPressure FROM Kidney)\n",
    "\n",
    "SELECT *\n",
    "FROM Kidney a \n",
    "JOIN BloodPressure b\n",
    "ON a.BloodPressure = b.MaxBloodPressure"
   ]
  },
  {
   "cell_type": "markdown",
   "metadata": {},
   "source": [
    "### Window Functions <a class=\"anchor\" id=\"wf\"></a>\n",
    "\n",
    "Window functions with aggregations (I)\n",
    "\n",
    "Recall that using OVER(), you can create a window for the entire table. To create partitions using a specific column, you need to use OVER() along with PARTITION BY."
   ]
  },
  {
   "cell_type": "raw",
   "metadata": {},
   "source": [
    "#Write a T-SQL query that returns the sum of OrderPrice by creating partitions for each TerritoryName.\n",
    "\n",
    "SELECT OrderID, TerritoryName, \n",
    "       SUM(OrderPrice)\n",
    "       OVER(PARTITION BY TerritoryName) AS TotalPrice\n",
    "FROM Orders"
   ]
  },
  {
   "cell_type": "markdown",
   "metadata": {},
   "source": [
    "Window functions with aggregations (II)\n"
   ]
  },
  {
   "cell_type": "raw",
   "metadata": {},
   "source": [
    "#Calculate the number of orders in each territory.\n",
    "\n",
    "SELECT OrderID, TerritoryName, \n",
    "       COUNT(*)\n",
    "       OVER(PARTITION BY TerritoryName) AS TotalOrders\n",
    "FROM Orders"
   ]
  },
  {
   "cell_type": "markdown",
   "metadata": {},
   "source": [
    "### Common Window Functions <a class=\"anchor\" id=\"cwf\"></a>\n",
    "\n",
    "Used expressily with Window Functions. \n",
    "\n",
    "The window functions LEAD(), LAG(), FIRST_VALUE(), and LAST_VALUE() require ORDER BY in the OVER() clause.\n"
   ]
  },
  {
   "cell_type": "markdown",
   "metadata": {},
   "source": [
    "**First value in a window**\n",
    "\n",
    "First, create partitions for each territory\n",
    "Then, order by OrderDate\n",
    "Finally, use the FIRST_VALUE() and/or LAST_VALUE() functions as per your requirement"
   ]
  },
  {
   "cell_type": "raw",
   "metadata": {},
   "source": [
    "#Write a T-SQL query that returns the first OrderDate by creating partitions for each TerritoryName.\n",
    "\n",
    "SELECT TerritoryName, OrderDate, \n",
    "       FIRST_VALUE(OrderDate) \n",
    "       OVER(PARTITION BY TerritoryName ORDER BY OrderDate) AS FirstOrder\n",
    "FROM Orders"
   ]
  },
  {
   "cell_type": "markdown",
   "metadata": {},
   "source": [
    "**Previous and next values**\n",
    "\n",
    "First, create partitions\n",
    "Then, order by a certain column\n",
    "Finally, use the LEAD() and/or LAG() functions as per your requirement"
   ]
  },
  {
   "cell_type": "raw",
   "metadata": {},
   "source": [
    "#Write a T-SQL query that for each territory:\n",
    "#Shifts the values in OrderDate one row down. Call this column PreviousOrder.\n",
    "#Shifts the values in OrderDate one row up. Call this column NextOrder. You will need to PARTITION BY the territory\n",
    "\n",
    "\n",
    "SELECT TerritoryName, OrderDate, \n",
    "       LAG(OrderDate) \n",
    "       OVER(PARTITION BY TerritoryName ORDER BY OrderDate) AS PreviousOrder,\n",
    "       LEAD(OrderDate) \n",
    "       OVER(PARTITION BY TerritoryName ORDER BY OrderDate) AS NextOrder\n",
    "FROM Orders"
   ]
  },
  {
   "cell_type": "markdown",
   "metadata": {},
   "source": [
    "**Creating running totals**\n",
    "\n",
    "You usually don't have to use ORDER BY when using aggregations, but if you want to create running totals, you should arrange your rows!"
   ]
  },
  {
   "cell_type": "raw",
   "metadata": {},
   "source": [
    "# Create the window, partition by TerritoryName and order by OrderDate to calculate a running total of OrderPrice.\n",
    "\n",
    "SELECT TerritoryName, OrderDate, \n",
    "       -- Create a running total\n",
    "       SUM(OrderPrice) \n",
    "       -- Create the partitions and arrange the rows\n",
    "       OVER(PARTITION BY TerritoryName ORDER BY OrderDate) AS TerritoryTotal\t  \n",
    "FROM Orders"
   ]
  },
  {
   "cell_type": "markdown",
   "metadata": {},
   "source": [
    "**Assigning row numbers**\n",
    "\n",
    "Records in T-SQL are inherently unordered. Although in certain situations.\n",
    "\n",
    "Sometimes may want to assign row numbers for reference."
   ]
  },
  {
   "cell_type": "raw",
   "metadata": {},
   "source": [
    "#Write a T-SQL query that assigns row numbers to all records partitioned by TerritoryName and ordered by OrderDate.\n",
    "\n",
    "SELECT TerritoryName, OrderDate, \n",
    "       ROW_NUMBER() \n",
    "       OVER(PARTITION BY TerritoryName ORDER BY OrderDate) AS OrderCount\n",
    "FROM Orders"
   ]
  },
  {
   "cell_type": "markdown",
   "metadata": {},
   "source": [
    "**Calculating standard deviation**\n",
    "\n",
    "Calculating the standard deviation is quite common when dealing with numeric columns."
   ]
  },
  {
   "cell_type": "raw",
   "metadata": {},
   "source": [
    "# Create the window, partition by TerritoryName and order by OrderDate to calculate a running standard deviation of OrderPrice.\n",
    "\n",
    "SELECT OrderDate, TerritoryName, \n",
    "\t   STDEV(OrderPrice)\n",
    "       OVER(PARTITION BY TerritoryName ORDER BY OrderDate) AS StdDevPrice\t  \n",
    "FROM Orders"
   ]
  },
  {
   "cell_type": "markdown",
   "metadata": {},
   "source": [
    "**Calculating mode (I)**\n",
    "\n",
    "First, create a CTE containing an ordered count of values using ROW_NUMBER()\n",
    "\n",
    "Write a query using the CTE to pick the value with the highest row number\n"
   ]
  },
  {
   "cell_type": "raw",
   "metadata": {},
   "source": [
    "#Create a CTE ModePrice that returns two columns (OrderPrice and UnitPriceFrequency).\n",
    "#Write a query that returns all rows in this CTE.\n",
    "\n",
    "WITH ModePrice (OrderPrice, UnitPriceFrequency)\n",
    "AS\n",
    "(\n",
    "\tSELECT OrderPrice, \n",
    "\tROW_NUMBER() \n",
    "\tOVER(PARTITION BY OrderPrice ORDER BY OrderPrice) AS UnitPriceFrequency\n",
    "\tFROM Orders \n",
    ")\n",
    "\n",
    "\n",
    "SELECT * FROM ModePrice"
   ]
  },
  {
   "cell_type": "markdown",
   "metadata": {},
   "source": [
    "**Calculating mode (II)**\n",
    "\n",
    "All you need to do now is to find the OrderPrice with the highest row number"
   ]
  },
  {
   "cell_type": "raw",
   "metadata": {},
   "source": [
    "#Use the CTE ModePrice to return the value of OrderPrice with the highest row number.\n",
    "\n",
    "WITH ModePrice (OrderPrice, UnitPriceFrequency)\n",
    "AS\n",
    "(\n",
    "\tSELECT OrderPrice,\n",
    "\tROW_NUMBER() \n",
    "    OVER (PARTITION BY OrderPrice ORDER BY OrderPrice) AS UnitPriceFrequency\n",
    "\tFROM Orders\n",
    ")\n",
    "\n",
    "#Select the order price from the CTE\n",
    "\n",
    "SELECT OrderPrice AS ModeOrderPrice\n",
    "FROM ModePrice\n",
    "WHERE UnitPriceFrequency IN (SELECT MAX(UnitPriceFrequency) From ModePrice)"
   ]
  }
 ],
 "metadata": {
  "kernelspec": {
   "display_name": "Python 3",
   "language": "python",
   "name": "python3"
  },
  "language_info": {
   "codemirror_mode": {
    "name": "ipython",
    "version": 3
   },
   "file_extension": ".py",
   "mimetype": "text/x-python",
   "name": "python",
   "nbconvert_exporter": "python",
   "pygments_lexer": "ipython3",
   "version": "3.6.8"
  }
 },
 "nbformat": 4,
 "nbformat_minor": 2
}
